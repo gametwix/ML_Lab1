{
 "cells": [
  {
   "cell_type": "code",
   "execution_count": 55,
   "id": "79f41a24",
   "metadata": {},
   "outputs": [],
   "source": [
    "import pandas as pd\n",
    "import matplotlib.pyplot as plt\n",
    "import numpy as np\n",
    "from sklearn.base import BaseEstimator, ClassifierMixin\n",
    "from sklearn.model_selection import train_test_split\n",
    "from sklearn.base import TransformerMixin\n",
    "from sklearn.pipeline import Pipeline\n",
    "from sklearn.compose import ColumnTransformer\n",
    "from sklearn.preprocessing import LabelEncoder, MinMaxScaler, OneHotEncoder\n",
    "from sklearn.neighbors import KNeighborsClassifier\n",
    "from sklearn.linear_model import LogisticRegression\n",
    "from sklearn.model_selection import GridSearchCV\n",
    "from sklearn.metrics import accuracy_score, precision_score, recall_score, roc_auc_score, confusion_matrix"
   ]
  },
  {
   "cell_type": "markdown",
   "id": "6b070eb0",
   "metadata": {},
   "source": [
    "### Разделим фичи по типам, отделим таргет и преобразуем его, разделим на тренировочную и тестирующую выборку"
   ]
  },
  {
   "cell_type": "code",
   "execution_count": 44,
   "id": "1d0e68aa",
   "metadata": {},
   "outputs": [],
   "source": [
    "data_file = pd.read_csv('data.csv')\n",
    "\n",
    "target = 'satisfaction'\n",
    "drop_features = ['Unnamed: 0', 'id', 'Arrival Delay in Minutes']\n",
    "numerical_features = ['Age', 'Flight Distance', 'Departure Delay in Minutes']\n",
    "categorical_features_to_onehot = ['Gender', 'Customer Type', 'Type of Travel', 'Class']\n",
    "categorical_features_other = [feat for feat in list(data_file.columns) if feat != target and feat not in numerical_features and feat not in drop_features and feat not in categorical_features_to_onehot]\n",
    " \n",
    "X = data_file.drop(target,axis=1)\n",
    "y = data_file[target]\n",
    "\n",
    "enc = LabelEncoder()\n",
    "y = enc.fit_transform(y)\n",
    "\n",
    "X_train, X_test, y_train, y_test = train_test_split(X, y, train_size=0.8, shuffle=True)"
   ]
  },
  {
   "cell_type": "code",
   "execution_count": 45,
   "id": "0291716b",
   "metadata": {},
   "outputs": [],
   "source": [
    "class Calc_Array(TransformerMixin):\n",
    "    def fit(self, X, y = None, **kwargs):\n",
    "        return self\n",
    "    def transform(self, X, y = None, **kwargs):\n",
    "        return X.toarray()"
   ]
  },
  {
   "cell_type": "markdown",
   "id": "629372d6",
   "metadata": {},
   "source": [
    "### Перпроцессинг данных"
   ]
  },
  {
   "cell_type": "code",
   "execution_count": 46,
   "id": "9b4ddf8e",
   "metadata": {},
   "outputs": [],
   "source": [
    "TransformColums = ColumnTransformer([\n",
    "    ('Drop','drop',drop_features),\n",
    "    ('Encoder', OneHotEncoder(), categorical_features_to_onehot),\n",
    "    ('MinMax',MinMaxScaler(),numerical_features)\n",
    "], remainder='passthrough')\n",
    "\n"
   ]
  },
  {
   "cell_type": "markdown",
   "id": "700d420f",
   "metadata": {},
   "source": [
    "### Функция подчета метрик"
   ]
  },
  {
   "cell_type": "code",
   "execution_count": 52,
   "id": "11bc54b6",
   "metadata": {},
   "outputs": [],
   "source": [
    "def Metrics(model, X, y):\n",
    "    y_pred = model.predict(X)\n",
    "    print('Accuracy = ', accuracy_score(y, y_pred))\n",
    "    print('Precision = ', precision_score(y, y_pred))\n",
    "    print('Recall = ', recall_score(y, y_pred))\n",
    "    print('ROC_AUC_score = ', roc_auc_score(y, y_pred))\n",
    "    print('Confudion_Matrix =')\n",
    "    print(confusion_matrix(y, y_pred))"
   ]
  },
  {
   "cell_type": "markdown",
   "id": "abfa9956",
   "metadata": {},
   "source": [
    "### KNN Sklearn"
   ]
  },
  {
   "cell_type": "code",
   "execution_count": 47,
   "id": "2ed16872",
   "metadata": {},
   "outputs": [
    {
     "data": {
      "text/html": [
       "<style>#sk-container-id-6 {color: black;background-color: white;}#sk-container-id-6 pre{padding: 0;}#sk-container-id-6 div.sk-toggleable {background-color: white;}#sk-container-id-6 label.sk-toggleable__label {cursor: pointer;display: block;width: 100%;margin-bottom: 0;padding: 0.3em;box-sizing: border-box;text-align: center;}#sk-container-id-6 label.sk-toggleable__label-arrow:before {content: \"▸\";float: left;margin-right: 0.25em;color: #696969;}#sk-container-id-6 label.sk-toggleable__label-arrow:hover:before {color: black;}#sk-container-id-6 div.sk-estimator:hover label.sk-toggleable__label-arrow:before {color: black;}#sk-container-id-6 div.sk-toggleable__content {max-height: 0;max-width: 0;overflow: hidden;text-align: left;background-color: #f0f8ff;}#sk-container-id-6 div.sk-toggleable__content pre {margin: 0.2em;color: black;border-radius: 0.25em;background-color: #f0f8ff;}#sk-container-id-6 input.sk-toggleable__control:checked~div.sk-toggleable__content {max-height: 200px;max-width: 100%;overflow: auto;}#sk-container-id-6 input.sk-toggleable__control:checked~label.sk-toggleable__label-arrow:before {content: \"▾\";}#sk-container-id-6 div.sk-estimator input.sk-toggleable__control:checked~label.sk-toggleable__label {background-color: #d4ebff;}#sk-container-id-6 div.sk-label input.sk-toggleable__control:checked~label.sk-toggleable__label {background-color: #d4ebff;}#sk-container-id-6 input.sk-hidden--visually {border: 0;clip: rect(1px 1px 1px 1px);clip: rect(1px, 1px, 1px, 1px);height: 1px;margin: -1px;overflow: hidden;padding: 0;position: absolute;width: 1px;}#sk-container-id-6 div.sk-estimator {font-family: monospace;background-color: #f0f8ff;border: 1px dotted black;border-radius: 0.25em;box-sizing: border-box;margin-bottom: 0.5em;}#sk-container-id-6 div.sk-estimator:hover {background-color: #d4ebff;}#sk-container-id-6 div.sk-parallel-item::after {content: \"\";width: 100%;border-bottom: 1px solid gray;flex-grow: 1;}#sk-container-id-6 div.sk-label:hover label.sk-toggleable__label {background-color: #d4ebff;}#sk-container-id-6 div.sk-serial::before {content: \"\";position: absolute;border-left: 1px solid gray;box-sizing: border-box;top: 0;bottom: 0;left: 50%;z-index: 0;}#sk-container-id-6 div.sk-serial {display: flex;flex-direction: column;align-items: center;background-color: white;padding-right: 0.2em;padding-left: 0.2em;position: relative;}#sk-container-id-6 div.sk-item {position: relative;z-index: 1;}#sk-container-id-6 div.sk-parallel {display: flex;align-items: stretch;justify-content: center;background-color: white;position: relative;}#sk-container-id-6 div.sk-item::before, #sk-container-id-6 div.sk-parallel-item::before {content: \"\";position: absolute;border-left: 1px solid gray;box-sizing: border-box;top: 0;bottom: 0;left: 50%;z-index: -1;}#sk-container-id-6 div.sk-parallel-item {display: flex;flex-direction: column;z-index: 1;position: relative;background-color: white;}#sk-container-id-6 div.sk-parallel-item:first-child::after {align-self: flex-end;width: 50%;}#sk-container-id-6 div.sk-parallel-item:last-child::after {align-self: flex-start;width: 50%;}#sk-container-id-6 div.sk-parallel-item:only-child::after {width: 0;}#sk-container-id-6 div.sk-dashed-wrapped {border: 1px dashed gray;margin: 0 0.4em 0.5em 0.4em;box-sizing: border-box;padding-bottom: 0.4em;background-color: white;}#sk-container-id-6 div.sk-label label {font-family: monospace;font-weight: bold;display: inline-block;line-height: 1.2em;}#sk-container-id-6 div.sk-label-container {text-align: center;}#sk-container-id-6 div.sk-container {/* jupyter's `normalize.less` sets `[hidden] { display: none; }` but bootstrap.min.css set `[hidden] { display: none !important; }` so we also need the `!important` here to be able to override the default hidden behavior on the sphinx rendered scikit-learn.org. See: https://github.com/scikit-learn/scikit-learn/issues/21755 */display: inline-block !important;position: relative;}#sk-container-id-6 div.sk-text-repr-fallback {display: none;}</style><div id=\"sk-container-id-6\" class=\"sk-top-container\"><div class=\"sk-text-repr-fallback\"><pre>GridSearchCV(estimator=Pipeline(steps=[(&#x27;Column Transform&#x27;,\n",
       "                                        ColumnTransformer(remainder=&#x27;passthrough&#x27;,\n",
       "                                                          transformers=[(&#x27;Drop&#x27;,\n",
       "                                                                         &#x27;drop&#x27;,\n",
       "                                                                         [&#x27;Unnamed: &#x27;\n",
       "                                                                          &#x27;0&#x27;,\n",
       "                                                                          &#x27;id&#x27;,\n",
       "                                                                          &#x27;Arrival &#x27;\n",
       "                                                                          &#x27;Delay &#x27;\n",
       "                                                                          &#x27;in &#x27;\n",
       "                                                                          &#x27;Minutes&#x27;]),\n",
       "                                                                        (&#x27;Encoder&#x27;,\n",
       "                                                                         OneHotEncoder(),\n",
       "                                                                         [&#x27;Gender&#x27;,\n",
       "                                                                          &#x27;Customer &#x27;\n",
       "                                                                          &#x27;Type&#x27;,\n",
       "                                                                          &#x27;Type &#x27;\n",
       "                                                                          &#x27;of &#x27;\n",
       "                                                                          &#x27;Travel&#x27;,\n",
       "                                                                          &#x27;Class&#x27;]),\n",
       "                                                                        (&#x27;MinMax&#x27;,\n",
       "                                                                         MinMaxScaler(),\n",
       "                                                                         [&#x27;Age&#x27;,\n",
       "                                                                          &#x27;Flight &#x27;\n",
       "                                                                          &#x27;Distance&#x27;,\n",
       "                                                                          &#x27;Departure &#x27;\n",
       "                                                                          &#x27;Delay &#x27;\n",
       "                                                                          &#x27;in &#x27;\n",
       "                                                                          &#x27;Minutes&#x27;])])),\n",
       "                                       (&#x27;knn&#x27;, KNeighborsClassifier())]),\n",
       "             param_grid={&#x27;knn__n_neighbors&#x27;: [1, 3, 5, 7]})</pre><b>In a Jupyter environment, please rerun this cell to show the HTML representation or trust the notebook. <br />On GitHub, the HTML representation is unable to render, please try loading this page with nbviewer.org.</b></div><div class=\"sk-container\" hidden><div class=\"sk-item sk-dashed-wrapped\"><div class=\"sk-label-container\"><div class=\"sk-label sk-toggleable\"><input class=\"sk-toggleable__control sk-hidden--visually\" id=\"sk-estimator-id-58\" type=\"checkbox\" ><label for=\"sk-estimator-id-58\" class=\"sk-toggleable__label sk-toggleable__label-arrow\">GridSearchCV</label><div class=\"sk-toggleable__content\"><pre>GridSearchCV(estimator=Pipeline(steps=[(&#x27;Column Transform&#x27;,\n",
       "                                        ColumnTransformer(remainder=&#x27;passthrough&#x27;,\n",
       "                                                          transformers=[(&#x27;Drop&#x27;,\n",
       "                                                                         &#x27;drop&#x27;,\n",
       "                                                                         [&#x27;Unnamed: &#x27;\n",
       "                                                                          &#x27;0&#x27;,\n",
       "                                                                          &#x27;id&#x27;,\n",
       "                                                                          &#x27;Arrival &#x27;\n",
       "                                                                          &#x27;Delay &#x27;\n",
       "                                                                          &#x27;in &#x27;\n",
       "                                                                          &#x27;Minutes&#x27;]),\n",
       "                                                                        (&#x27;Encoder&#x27;,\n",
       "                                                                         OneHotEncoder(),\n",
       "                                                                         [&#x27;Gender&#x27;,\n",
       "                                                                          &#x27;Customer &#x27;\n",
       "                                                                          &#x27;Type&#x27;,\n",
       "                                                                          &#x27;Type &#x27;\n",
       "                                                                          &#x27;of &#x27;\n",
       "                                                                          &#x27;Travel&#x27;,\n",
       "                                                                          &#x27;Class&#x27;]),\n",
       "                                                                        (&#x27;MinMax&#x27;,\n",
       "                                                                         MinMaxScaler(),\n",
       "                                                                         [&#x27;Age&#x27;,\n",
       "                                                                          &#x27;Flight &#x27;\n",
       "                                                                          &#x27;Distance&#x27;,\n",
       "                                                                          &#x27;Departure &#x27;\n",
       "                                                                          &#x27;Delay &#x27;\n",
       "                                                                          &#x27;in &#x27;\n",
       "                                                                          &#x27;Minutes&#x27;])])),\n",
       "                                       (&#x27;knn&#x27;, KNeighborsClassifier())]),\n",
       "             param_grid={&#x27;knn__n_neighbors&#x27;: [1, 3, 5, 7]})</pre></div></div></div><div class=\"sk-parallel\"><div class=\"sk-parallel-item\"><div class=\"sk-item\"><div class=\"sk-label-container\"><div class=\"sk-label sk-toggleable\"><input class=\"sk-toggleable__control sk-hidden--visually\" id=\"sk-estimator-id-59\" type=\"checkbox\" ><label for=\"sk-estimator-id-59\" class=\"sk-toggleable__label sk-toggleable__label-arrow\">estimator: Pipeline</label><div class=\"sk-toggleable__content\"><pre>Pipeline(steps=[(&#x27;Column Transform&#x27;,\n",
       "                 ColumnTransformer(remainder=&#x27;passthrough&#x27;,\n",
       "                                   transformers=[(&#x27;Drop&#x27;, &#x27;drop&#x27;,\n",
       "                                                  [&#x27;Unnamed: 0&#x27;, &#x27;id&#x27;,\n",
       "                                                   &#x27;Arrival Delay in Minutes&#x27;]),\n",
       "                                                 (&#x27;Encoder&#x27;, OneHotEncoder(),\n",
       "                                                  [&#x27;Gender&#x27;, &#x27;Customer Type&#x27;,\n",
       "                                                   &#x27;Type of Travel&#x27;, &#x27;Class&#x27;]),\n",
       "                                                 (&#x27;MinMax&#x27;, MinMaxScaler(),\n",
       "                                                  [&#x27;Age&#x27;, &#x27;Flight Distance&#x27;,\n",
       "                                                   &#x27;Departure Delay in &#x27;\n",
       "                                                   &#x27;Minutes&#x27;])])),\n",
       "                (&#x27;knn&#x27;, KNeighborsClassifier())])</pre></div></div></div><div class=\"sk-serial\"><div class=\"sk-item\"><div class=\"sk-serial\"><div class=\"sk-item sk-dashed-wrapped\"><div class=\"sk-label-container\"><div class=\"sk-label sk-toggleable\"><input class=\"sk-toggleable__control sk-hidden--visually\" id=\"sk-estimator-id-60\" type=\"checkbox\" ><label for=\"sk-estimator-id-60\" class=\"sk-toggleable__label sk-toggleable__label-arrow\">Column Transform: ColumnTransformer</label><div class=\"sk-toggleable__content\"><pre>ColumnTransformer(remainder=&#x27;passthrough&#x27;,\n",
       "                  transformers=[(&#x27;Drop&#x27;, &#x27;drop&#x27;,\n",
       "                                 [&#x27;Unnamed: 0&#x27;, &#x27;id&#x27;,\n",
       "                                  &#x27;Arrival Delay in Minutes&#x27;]),\n",
       "                                (&#x27;Encoder&#x27;, OneHotEncoder(),\n",
       "                                 [&#x27;Gender&#x27;, &#x27;Customer Type&#x27;, &#x27;Type of Travel&#x27;,\n",
       "                                  &#x27;Class&#x27;]),\n",
       "                                (&#x27;MinMax&#x27;, MinMaxScaler(),\n",
       "                                 [&#x27;Age&#x27;, &#x27;Flight Distance&#x27;,\n",
       "                                  &#x27;Departure Delay in Minutes&#x27;])])</pre></div></div></div><div class=\"sk-parallel\"><div class=\"sk-parallel-item\"><div class=\"sk-item\"><div class=\"sk-label-container\"><div class=\"sk-label sk-toggleable\"><input class=\"sk-toggleable__control sk-hidden--visually\" id=\"sk-estimator-id-61\" type=\"checkbox\" ><label for=\"sk-estimator-id-61\" class=\"sk-toggleable__label sk-toggleable__label-arrow\">Drop</label><div class=\"sk-toggleable__content\"><pre>[&#x27;Unnamed: 0&#x27;, &#x27;id&#x27;, &#x27;Arrival Delay in Minutes&#x27;]</pre></div></div></div><div class=\"sk-serial\"><div class=\"sk-item\"><div class=\"sk-estimator sk-toggleable\"><input class=\"sk-toggleable__control sk-hidden--visually\" id=\"sk-estimator-id-62\" type=\"checkbox\" ><label for=\"sk-estimator-id-62\" class=\"sk-toggleable__label sk-toggleable__label-arrow\">drop</label><div class=\"sk-toggleable__content\"><pre>drop</pre></div></div></div></div></div></div><div class=\"sk-parallel-item\"><div class=\"sk-item\"><div class=\"sk-label-container\"><div class=\"sk-label sk-toggleable\"><input class=\"sk-toggleable__control sk-hidden--visually\" id=\"sk-estimator-id-63\" type=\"checkbox\" ><label for=\"sk-estimator-id-63\" class=\"sk-toggleable__label sk-toggleable__label-arrow\">Encoder</label><div class=\"sk-toggleable__content\"><pre>[&#x27;Gender&#x27;, &#x27;Customer Type&#x27;, &#x27;Type of Travel&#x27;, &#x27;Class&#x27;]</pre></div></div></div><div class=\"sk-serial\"><div class=\"sk-item\"><div class=\"sk-estimator sk-toggleable\"><input class=\"sk-toggleable__control sk-hidden--visually\" id=\"sk-estimator-id-64\" type=\"checkbox\" ><label for=\"sk-estimator-id-64\" class=\"sk-toggleable__label sk-toggleable__label-arrow\">OneHotEncoder</label><div class=\"sk-toggleable__content\"><pre>OneHotEncoder()</pre></div></div></div></div></div></div><div class=\"sk-parallel-item\"><div class=\"sk-item\"><div class=\"sk-label-container\"><div class=\"sk-label sk-toggleable\"><input class=\"sk-toggleable__control sk-hidden--visually\" id=\"sk-estimator-id-65\" type=\"checkbox\" ><label for=\"sk-estimator-id-65\" class=\"sk-toggleable__label sk-toggleable__label-arrow\">MinMax</label><div class=\"sk-toggleable__content\"><pre>[&#x27;Age&#x27;, &#x27;Flight Distance&#x27;, &#x27;Departure Delay in Minutes&#x27;]</pre></div></div></div><div class=\"sk-serial\"><div class=\"sk-item\"><div class=\"sk-estimator sk-toggleable\"><input class=\"sk-toggleable__control sk-hidden--visually\" id=\"sk-estimator-id-66\" type=\"checkbox\" ><label for=\"sk-estimator-id-66\" class=\"sk-toggleable__label sk-toggleable__label-arrow\">MinMaxScaler</label><div class=\"sk-toggleable__content\"><pre>MinMaxScaler()</pre></div></div></div></div></div></div><div class=\"sk-parallel-item\"><div class=\"sk-item\"><div class=\"sk-label-container\"><div class=\"sk-label sk-toggleable\"><input class=\"sk-toggleable__control sk-hidden--visually\" id=\"sk-estimator-id-67\" type=\"checkbox\" ><label for=\"sk-estimator-id-67\" class=\"sk-toggleable__label sk-toggleable__label-arrow\">remainder</label><div class=\"sk-toggleable__content\"><pre></pre></div></div></div><div class=\"sk-serial\"><div class=\"sk-item\"><div class=\"sk-estimator sk-toggleable\"><input class=\"sk-toggleable__control sk-hidden--visually\" id=\"sk-estimator-id-68\" type=\"checkbox\" ><label for=\"sk-estimator-id-68\" class=\"sk-toggleable__label sk-toggleable__label-arrow\">passthrough</label><div class=\"sk-toggleable__content\"><pre>passthrough</pre></div></div></div></div></div></div></div></div><div class=\"sk-item\"><div class=\"sk-estimator sk-toggleable\"><input class=\"sk-toggleable__control sk-hidden--visually\" id=\"sk-estimator-id-69\" type=\"checkbox\" ><label for=\"sk-estimator-id-69\" class=\"sk-toggleable__label sk-toggleable__label-arrow\">KNeighborsClassifier</label><div class=\"sk-toggleable__content\"><pre>KNeighborsClassifier()</pre></div></div></div></div></div></div></div></div></div></div></div></div>"
      ],
      "text/plain": [
       "GridSearchCV(estimator=Pipeline(steps=[('Column Transform',\n",
       "                                        ColumnTransformer(remainder='passthrough',\n",
       "                                                          transformers=[('Drop',\n",
       "                                                                         'drop',\n",
       "                                                                         ['Unnamed: '\n",
       "                                                                          '0',\n",
       "                                                                          'id',\n",
       "                                                                          'Arrival '\n",
       "                                                                          'Delay '\n",
       "                                                                          'in '\n",
       "                                                                          'Minutes']),\n",
       "                                                                        ('Encoder',\n",
       "                                                                         OneHotEncoder(),\n",
       "                                                                         ['Gender',\n",
       "                                                                          'Customer '\n",
       "                                                                          'Type',\n",
       "                                                                          'Type '\n",
       "                                                                          'of '\n",
       "                                                                          'Travel',\n",
       "                                                                          'Class']),\n",
       "                                                                        ('MinMax',\n",
       "                                                                         MinMaxScaler(),\n",
       "                                                                         ['Age',\n",
       "                                                                          'Flight '\n",
       "                                                                          'Distance',\n",
       "                                                                          'Departure '\n",
       "                                                                          'Delay '\n",
       "                                                                          'in '\n",
       "                                                                          'Minutes'])])),\n",
       "                                       ('knn', KNeighborsClassifier())]),\n",
       "             param_grid={'knn__n_neighbors': [1, 3, 5, 7]})"
      ]
     },
     "execution_count": 47,
     "metadata": {},
     "output_type": "execute_result"
    }
   ],
   "source": [
    "knn_sk_pipeline = Pipeline([\n",
    "    ('Column Transform', TransformColums),\n",
    "    ('knn', KNeighborsClassifier())\n",
    "])\n",
    "\n",
    "knn_sk = GridSearchCV(knn_sk_pipeline,{'knn__n_neighbors':[1,3,5,7]})\n",
    "knn_sk.fit(X_train, y_train)"
   ]
  },
  {
   "cell_type": "code",
   "execution_count": 53,
   "id": "49b705a3",
   "metadata": {},
   "outputs": [
    {
     "name": "stdout",
     "output_type": "stream",
     "text": [
      "Accuracy =  0.932486405851499\n",
      "Precision =  0.949549338639822\n",
      "Recall =  0.892998678996037\n",
      "ROC_AUC_score =  0.9280758120978305\n",
      "Confudion_Matrix =\n",
      "[[11266   431]\n",
      " [  972  8112]]\n"
     ]
    }
   ],
   "source": [
    "Metrics(knn_sk, X_test, y_test)"
   ]
  },
  {
   "cell_type": "markdown",
   "id": "e2a94944",
   "metadata": {},
   "source": [
    "### LogisticRegression Sklearn\n"
   ]
  },
  {
   "cell_type": "code",
   "execution_count": 75,
   "id": "bc61d16a",
   "metadata": {},
   "outputs": [
    {
     "data": {
      "text/html": [
       "<style>#sk-container-id-11 {color: black;background-color: white;}#sk-container-id-11 pre{padding: 0;}#sk-container-id-11 div.sk-toggleable {background-color: white;}#sk-container-id-11 label.sk-toggleable__label {cursor: pointer;display: block;width: 100%;margin-bottom: 0;padding: 0.3em;box-sizing: border-box;text-align: center;}#sk-container-id-11 label.sk-toggleable__label-arrow:before {content: \"▸\";float: left;margin-right: 0.25em;color: #696969;}#sk-container-id-11 label.sk-toggleable__label-arrow:hover:before {color: black;}#sk-container-id-11 div.sk-estimator:hover label.sk-toggleable__label-arrow:before {color: black;}#sk-container-id-11 div.sk-toggleable__content {max-height: 0;max-width: 0;overflow: hidden;text-align: left;background-color: #f0f8ff;}#sk-container-id-11 div.sk-toggleable__content pre {margin: 0.2em;color: black;border-radius: 0.25em;background-color: #f0f8ff;}#sk-container-id-11 input.sk-toggleable__control:checked~div.sk-toggleable__content {max-height: 200px;max-width: 100%;overflow: auto;}#sk-container-id-11 input.sk-toggleable__control:checked~label.sk-toggleable__label-arrow:before {content: \"▾\";}#sk-container-id-11 div.sk-estimator input.sk-toggleable__control:checked~label.sk-toggleable__label {background-color: #d4ebff;}#sk-container-id-11 div.sk-label input.sk-toggleable__control:checked~label.sk-toggleable__label {background-color: #d4ebff;}#sk-container-id-11 input.sk-hidden--visually {border: 0;clip: rect(1px 1px 1px 1px);clip: rect(1px, 1px, 1px, 1px);height: 1px;margin: -1px;overflow: hidden;padding: 0;position: absolute;width: 1px;}#sk-container-id-11 div.sk-estimator {font-family: monospace;background-color: #f0f8ff;border: 1px dotted black;border-radius: 0.25em;box-sizing: border-box;margin-bottom: 0.5em;}#sk-container-id-11 div.sk-estimator:hover {background-color: #d4ebff;}#sk-container-id-11 div.sk-parallel-item::after {content: \"\";width: 100%;border-bottom: 1px solid gray;flex-grow: 1;}#sk-container-id-11 div.sk-label:hover label.sk-toggleable__label {background-color: #d4ebff;}#sk-container-id-11 div.sk-serial::before {content: \"\";position: absolute;border-left: 1px solid gray;box-sizing: border-box;top: 0;bottom: 0;left: 50%;z-index: 0;}#sk-container-id-11 div.sk-serial {display: flex;flex-direction: column;align-items: center;background-color: white;padding-right: 0.2em;padding-left: 0.2em;position: relative;}#sk-container-id-11 div.sk-item {position: relative;z-index: 1;}#sk-container-id-11 div.sk-parallel {display: flex;align-items: stretch;justify-content: center;background-color: white;position: relative;}#sk-container-id-11 div.sk-item::before, #sk-container-id-11 div.sk-parallel-item::before {content: \"\";position: absolute;border-left: 1px solid gray;box-sizing: border-box;top: 0;bottom: 0;left: 50%;z-index: -1;}#sk-container-id-11 div.sk-parallel-item {display: flex;flex-direction: column;z-index: 1;position: relative;background-color: white;}#sk-container-id-11 div.sk-parallel-item:first-child::after {align-self: flex-end;width: 50%;}#sk-container-id-11 div.sk-parallel-item:last-child::after {align-self: flex-start;width: 50%;}#sk-container-id-11 div.sk-parallel-item:only-child::after {width: 0;}#sk-container-id-11 div.sk-dashed-wrapped {border: 1px dashed gray;margin: 0 0.4em 0.5em 0.4em;box-sizing: border-box;padding-bottom: 0.4em;background-color: white;}#sk-container-id-11 div.sk-label label {font-family: monospace;font-weight: bold;display: inline-block;line-height: 1.2em;}#sk-container-id-11 div.sk-label-container {text-align: center;}#sk-container-id-11 div.sk-container {/* jupyter's `normalize.less` sets `[hidden] { display: none; }` but bootstrap.min.css set `[hidden] { display: none !important; }` so we also need the `!important` here to be able to override the default hidden behavior on the sphinx rendered scikit-learn.org. See: https://github.com/scikit-learn/scikit-learn/issues/21755 */display: inline-block !important;position: relative;}#sk-container-id-11 div.sk-text-repr-fallback {display: none;}</style><div id=\"sk-container-id-11\" class=\"sk-top-container\"><div class=\"sk-text-repr-fallback\"><pre>GridSearchCV(estimator=Pipeline(steps=[(&#x27;Column Transform&#x27;,\n",
       "                                        ColumnTransformer(remainder=&#x27;passthrough&#x27;,\n",
       "                                                          transformers=[(&#x27;Drop&#x27;,\n",
       "                                                                         &#x27;drop&#x27;,\n",
       "                                                                         [&#x27;Unnamed: &#x27;\n",
       "                                                                          &#x27;0&#x27;,\n",
       "                                                                          &#x27;id&#x27;,\n",
       "                                                                          &#x27;Arrival &#x27;\n",
       "                                                                          &#x27;Delay &#x27;\n",
       "                                                                          &#x27;in &#x27;\n",
       "                                                                          &#x27;Minutes&#x27;]),\n",
       "                                                                        (&#x27;Encoder&#x27;,\n",
       "                                                                         OneHotEncoder(),\n",
       "                                                                         [&#x27;Gender&#x27;,\n",
       "                                                                          &#x27;Customer &#x27;\n",
       "                                                                          &#x27;Type&#x27;,\n",
       "                                                                          &#x27;Type &#x27;\n",
       "                                                                          &#x27;of &#x27;\n",
       "                                                                          &#x27;Travel&#x27;,\n",
       "                                                                          &#x27;Class&#x27;]),\n",
       "                                                                        (&#x27;MinMax&#x27;,\n",
       "                                                                         MinMaxScaler(),\n",
       "                                                                         [&#x27;Age&#x27;,\n",
       "                                                                          &#x27;Flight &#x27;\n",
       "                                                                          &#x27;Distance&#x27;,\n",
       "                                                                          &#x27;Departure &#x27;\n",
       "                                                                          &#x27;Delay &#x27;\n",
       "                                                                          &#x27;in &#x27;\n",
       "                                                                          &#x27;Minutes&#x27;])])),\n",
       "                                       (&#x27;logit&#x27;, LogisticRegression())]),\n",
       "             param_grid={&#x27;logit__C&#x27;: [10, 1, 0.1, 0.01],\n",
       "                         &#x27;logit__max_iter&#x27;: [500, 1000, 5000]})</pre><b>In a Jupyter environment, please rerun this cell to show the HTML representation or trust the notebook. <br />On GitHub, the HTML representation is unable to render, please try loading this page with nbviewer.org.</b></div><div class=\"sk-container\" hidden><div class=\"sk-item sk-dashed-wrapped\"><div class=\"sk-label-container\"><div class=\"sk-label sk-toggleable\"><input class=\"sk-toggleable__control sk-hidden--visually\" id=\"sk-estimator-id-117\" type=\"checkbox\" ><label for=\"sk-estimator-id-117\" class=\"sk-toggleable__label sk-toggleable__label-arrow\">GridSearchCV</label><div class=\"sk-toggleable__content\"><pre>GridSearchCV(estimator=Pipeline(steps=[(&#x27;Column Transform&#x27;,\n",
       "                                        ColumnTransformer(remainder=&#x27;passthrough&#x27;,\n",
       "                                                          transformers=[(&#x27;Drop&#x27;,\n",
       "                                                                         &#x27;drop&#x27;,\n",
       "                                                                         [&#x27;Unnamed: &#x27;\n",
       "                                                                          &#x27;0&#x27;,\n",
       "                                                                          &#x27;id&#x27;,\n",
       "                                                                          &#x27;Arrival &#x27;\n",
       "                                                                          &#x27;Delay &#x27;\n",
       "                                                                          &#x27;in &#x27;\n",
       "                                                                          &#x27;Minutes&#x27;]),\n",
       "                                                                        (&#x27;Encoder&#x27;,\n",
       "                                                                         OneHotEncoder(),\n",
       "                                                                         [&#x27;Gender&#x27;,\n",
       "                                                                          &#x27;Customer &#x27;\n",
       "                                                                          &#x27;Type&#x27;,\n",
       "                                                                          &#x27;Type &#x27;\n",
       "                                                                          &#x27;of &#x27;\n",
       "                                                                          &#x27;Travel&#x27;,\n",
       "                                                                          &#x27;Class&#x27;]),\n",
       "                                                                        (&#x27;MinMax&#x27;,\n",
       "                                                                         MinMaxScaler(),\n",
       "                                                                         [&#x27;Age&#x27;,\n",
       "                                                                          &#x27;Flight &#x27;\n",
       "                                                                          &#x27;Distance&#x27;,\n",
       "                                                                          &#x27;Departure &#x27;\n",
       "                                                                          &#x27;Delay &#x27;\n",
       "                                                                          &#x27;in &#x27;\n",
       "                                                                          &#x27;Minutes&#x27;])])),\n",
       "                                       (&#x27;logit&#x27;, LogisticRegression())]),\n",
       "             param_grid={&#x27;logit__C&#x27;: [10, 1, 0.1, 0.01],\n",
       "                         &#x27;logit__max_iter&#x27;: [500, 1000, 5000]})</pre></div></div></div><div class=\"sk-parallel\"><div class=\"sk-parallel-item\"><div class=\"sk-item\"><div class=\"sk-label-container\"><div class=\"sk-label sk-toggleable\"><input class=\"sk-toggleable__control sk-hidden--visually\" id=\"sk-estimator-id-118\" type=\"checkbox\" ><label for=\"sk-estimator-id-118\" class=\"sk-toggleable__label sk-toggleable__label-arrow\">estimator: Pipeline</label><div class=\"sk-toggleable__content\"><pre>Pipeline(steps=[(&#x27;Column Transform&#x27;,\n",
       "                 ColumnTransformer(remainder=&#x27;passthrough&#x27;,\n",
       "                                   transformers=[(&#x27;Drop&#x27;, &#x27;drop&#x27;,\n",
       "                                                  [&#x27;Unnamed: 0&#x27;, &#x27;id&#x27;,\n",
       "                                                   &#x27;Arrival Delay in Minutes&#x27;]),\n",
       "                                                 (&#x27;Encoder&#x27;, OneHotEncoder(),\n",
       "                                                  [&#x27;Gender&#x27;, &#x27;Customer Type&#x27;,\n",
       "                                                   &#x27;Type of Travel&#x27;, &#x27;Class&#x27;]),\n",
       "                                                 (&#x27;MinMax&#x27;, MinMaxScaler(),\n",
       "                                                  [&#x27;Age&#x27;, &#x27;Flight Distance&#x27;,\n",
       "                                                   &#x27;Departure Delay in &#x27;\n",
       "                                                   &#x27;Minutes&#x27;])])),\n",
       "                (&#x27;logit&#x27;, LogisticRegression())])</pre></div></div></div><div class=\"sk-serial\"><div class=\"sk-item\"><div class=\"sk-serial\"><div class=\"sk-item sk-dashed-wrapped\"><div class=\"sk-label-container\"><div class=\"sk-label sk-toggleable\"><input class=\"sk-toggleable__control sk-hidden--visually\" id=\"sk-estimator-id-119\" type=\"checkbox\" ><label for=\"sk-estimator-id-119\" class=\"sk-toggleable__label sk-toggleable__label-arrow\">Column Transform: ColumnTransformer</label><div class=\"sk-toggleable__content\"><pre>ColumnTransformer(remainder=&#x27;passthrough&#x27;,\n",
       "                  transformers=[(&#x27;Drop&#x27;, &#x27;drop&#x27;,\n",
       "                                 [&#x27;Unnamed: 0&#x27;, &#x27;id&#x27;,\n",
       "                                  &#x27;Arrival Delay in Minutes&#x27;]),\n",
       "                                (&#x27;Encoder&#x27;, OneHotEncoder(),\n",
       "                                 [&#x27;Gender&#x27;, &#x27;Customer Type&#x27;, &#x27;Type of Travel&#x27;,\n",
       "                                  &#x27;Class&#x27;]),\n",
       "                                (&#x27;MinMax&#x27;, MinMaxScaler(),\n",
       "                                 [&#x27;Age&#x27;, &#x27;Flight Distance&#x27;,\n",
       "                                  &#x27;Departure Delay in Minutes&#x27;])])</pre></div></div></div><div class=\"sk-parallel\"><div class=\"sk-parallel-item\"><div class=\"sk-item\"><div class=\"sk-label-container\"><div class=\"sk-label sk-toggleable\"><input class=\"sk-toggleable__control sk-hidden--visually\" id=\"sk-estimator-id-120\" type=\"checkbox\" ><label for=\"sk-estimator-id-120\" class=\"sk-toggleable__label sk-toggleable__label-arrow\">Drop</label><div class=\"sk-toggleable__content\"><pre>[&#x27;Unnamed: 0&#x27;, &#x27;id&#x27;, &#x27;Arrival Delay in Minutes&#x27;]</pre></div></div></div><div class=\"sk-serial\"><div class=\"sk-item\"><div class=\"sk-estimator sk-toggleable\"><input class=\"sk-toggleable__control sk-hidden--visually\" id=\"sk-estimator-id-121\" type=\"checkbox\" ><label for=\"sk-estimator-id-121\" class=\"sk-toggleable__label sk-toggleable__label-arrow\">drop</label><div class=\"sk-toggleable__content\"><pre>drop</pre></div></div></div></div></div></div><div class=\"sk-parallel-item\"><div class=\"sk-item\"><div class=\"sk-label-container\"><div class=\"sk-label sk-toggleable\"><input class=\"sk-toggleable__control sk-hidden--visually\" id=\"sk-estimator-id-122\" type=\"checkbox\" ><label for=\"sk-estimator-id-122\" class=\"sk-toggleable__label sk-toggleable__label-arrow\">Encoder</label><div class=\"sk-toggleable__content\"><pre>[&#x27;Gender&#x27;, &#x27;Customer Type&#x27;, &#x27;Type of Travel&#x27;, &#x27;Class&#x27;]</pre></div></div></div><div class=\"sk-serial\"><div class=\"sk-item\"><div class=\"sk-estimator sk-toggleable\"><input class=\"sk-toggleable__control sk-hidden--visually\" id=\"sk-estimator-id-123\" type=\"checkbox\" ><label for=\"sk-estimator-id-123\" class=\"sk-toggleable__label sk-toggleable__label-arrow\">OneHotEncoder</label><div class=\"sk-toggleable__content\"><pre>OneHotEncoder()</pre></div></div></div></div></div></div><div class=\"sk-parallel-item\"><div class=\"sk-item\"><div class=\"sk-label-container\"><div class=\"sk-label sk-toggleable\"><input class=\"sk-toggleable__control sk-hidden--visually\" id=\"sk-estimator-id-124\" type=\"checkbox\" ><label for=\"sk-estimator-id-124\" class=\"sk-toggleable__label sk-toggleable__label-arrow\">MinMax</label><div class=\"sk-toggleable__content\"><pre>[&#x27;Age&#x27;, &#x27;Flight Distance&#x27;, &#x27;Departure Delay in Minutes&#x27;]</pre></div></div></div><div class=\"sk-serial\"><div class=\"sk-item\"><div class=\"sk-estimator sk-toggleable\"><input class=\"sk-toggleable__control sk-hidden--visually\" id=\"sk-estimator-id-125\" type=\"checkbox\" ><label for=\"sk-estimator-id-125\" class=\"sk-toggleable__label sk-toggleable__label-arrow\">MinMaxScaler</label><div class=\"sk-toggleable__content\"><pre>MinMaxScaler()</pre></div></div></div></div></div></div><div class=\"sk-parallel-item\"><div class=\"sk-item\"><div class=\"sk-label-container\"><div class=\"sk-label sk-toggleable\"><input class=\"sk-toggleable__control sk-hidden--visually\" id=\"sk-estimator-id-126\" type=\"checkbox\" ><label for=\"sk-estimator-id-126\" class=\"sk-toggleable__label sk-toggleable__label-arrow\">remainder</label><div class=\"sk-toggleable__content\"><pre></pre></div></div></div><div class=\"sk-serial\"><div class=\"sk-item\"><div class=\"sk-estimator sk-toggleable\"><input class=\"sk-toggleable__control sk-hidden--visually\" id=\"sk-estimator-id-127\" type=\"checkbox\" ><label for=\"sk-estimator-id-127\" class=\"sk-toggleable__label sk-toggleable__label-arrow\">passthrough</label><div class=\"sk-toggleable__content\"><pre>passthrough</pre></div></div></div></div></div></div></div></div><div class=\"sk-item\"><div class=\"sk-estimator sk-toggleable\"><input class=\"sk-toggleable__control sk-hidden--visually\" id=\"sk-estimator-id-128\" type=\"checkbox\" ><label for=\"sk-estimator-id-128\" class=\"sk-toggleable__label sk-toggleable__label-arrow\">LogisticRegression</label><div class=\"sk-toggleable__content\"><pre>LogisticRegression()</pre></div></div></div></div></div></div></div></div></div></div></div></div>"
      ],
      "text/plain": [
       "GridSearchCV(estimator=Pipeline(steps=[('Column Transform',\n",
       "                                        ColumnTransformer(remainder='passthrough',\n",
       "                                                          transformers=[('Drop',\n",
       "                                                                         'drop',\n",
       "                                                                         ['Unnamed: '\n",
       "                                                                          '0',\n",
       "                                                                          'id',\n",
       "                                                                          'Arrival '\n",
       "                                                                          'Delay '\n",
       "                                                                          'in '\n",
       "                                                                          'Minutes']),\n",
       "                                                                        ('Encoder',\n",
       "                                                                         OneHotEncoder(),\n",
       "                                                                         ['Gender',\n",
       "                                                                          'Customer '\n",
       "                                                                          'Type',\n",
       "                                                                          'Type '\n",
       "                                                                          'of '\n",
       "                                                                          'Travel',\n",
       "                                                                          'Class']),\n",
       "                                                                        ('MinMax',\n",
       "                                                                         MinMaxScaler(),\n",
       "                                                                         ['Age',\n",
       "                                                                          'Flight '\n",
       "                                                                          'Distance',\n",
       "                                                                          'Departure '\n",
       "                                                                          'Delay '\n",
       "                                                                          'in '\n",
       "                                                                          'Minutes'])])),\n",
       "                                       ('logit', LogisticRegression())]),\n",
       "             param_grid={'logit__C': [10, 1, 0.1, 0.01],\n",
       "                         'logit__max_iter': [500, 1000, 5000]})"
      ]
     },
     "execution_count": 75,
     "metadata": {},
     "output_type": "execute_result"
    }
   ],
   "source": [
    "logit_sk_pipeline = Pipeline([\n",
    "    ('Column Transform', TransformColums),\n",
    "    ('logit', LogisticRegression())\n",
    "])\n",
    "\n",
    "logit_sk = GridSearchCV(logit_sk_pipeline,{'logit__C':[10,1,0.1,0.01],'logit__max_iter':[500,1000,5000]})\n",
    "logit_sk.fit(X_train, y_train)"
   ]
  },
  {
   "cell_type": "code",
   "execution_count": 71,
   "id": "61fb7a22",
   "metadata": {},
   "outputs": [
    {
     "name": "stdout",
     "output_type": "stream",
     "text": [
      "Accuracy =  0.8763774601799721\n",
      "Precision =  0.8726690310033177\n",
      "Recall =  0.8397181858212242\n",
      "ROC_AUC_score =  0.8722827912948132\n",
      "Confudion_Matrix =\n",
      "[[10584  1113]\n",
      " [ 1456  7628]]\n"
     ]
    }
   ],
   "source": [
    "Metrics(logit_sk, X_test, y_test)"
   ]
  },
  {
   "cell_type": "code",
   "execution_count": 72,
   "id": "0a9c2518",
   "metadata": {},
   "outputs": [
    {
     "data": {
      "text/plain": [
       "{'logit__max_iter': 500}"
      ]
     },
     "execution_count": 72,
     "metadata": {},
     "output_type": "execute_result"
    }
   ],
   "source": []
  },
  {
   "cell_type": "code",
   "execution_count": null,
   "id": "ff7d68fa",
   "metadata": {},
   "outputs": [],
   "source": []
  }
 ],
 "metadata": {
  "kernelspec": {
   "display_name": "Python 3.8.10 ('ML': venv)",
   "language": "python",
   "name": "python3"
  },
  "language_info": {
   "codemirror_mode": {
    "name": "ipython",
    "version": 3
   },
   "file_extension": ".py",
   "mimetype": "text/x-python",
   "name": "python",
   "nbconvert_exporter": "python",
   "pygments_lexer": "ipython3",
   "version": "3.8.10"
  },
  "vscode": {
   "interpreter": {
    "hash": "b37cb38d0adfbb97c31efd12df9d32c5ed032756aa0d8286c71700cb35e27683"
   }
  }
 },
 "nbformat": 4,
 "nbformat_minor": 5
}
